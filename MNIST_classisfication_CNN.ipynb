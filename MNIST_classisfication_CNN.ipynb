{
  "nbformat": 4,
  "nbformat_minor": 0,
  "metadata": {
    "colab": {
      "name": "MNIST_classisfication_CNN.ipynb",
      "provenance": [],
      "toc_visible": true
    },
    "kernelspec": {
      "name": "python3",
      "display_name": "Python 3"
    },
    "accelerator": "GPU",
    "widgets": {
      "application/vnd.jupyter.widget-state+json": {
        "7219de9d04b14e8ea232f4a4a80d362a": {
          "model_module": "@jupyter-widgets/controls",
          "model_name": "HBoxModel",
          "state": {
            "_view_name": "HBoxView",
            "_dom_classes": [],
            "_model_name": "HBoxModel",
            "_view_module": "@jupyter-widgets/controls",
            "_model_module_version": "1.5.0",
            "_view_count": null,
            "_view_module_version": "1.5.0",
            "box_style": "",
            "layout": "IPY_MODEL_155679261ed54ab5a5e9926126b6ae22",
            "_model_module": "@jupyter-widgets/controls",
            "children": [
              "IPY_MODEL_022d1850af8a43ce9033be750ad1a622",
              "IPY_MODEL_3642c741fcc249878e2bccf32006a72d"
            ]
          }
        },
        "155679261ed54ab5a5e9926126b6ae22": {
          "model_module": "@jupyter-widgets/base",
          "model_name": "LayoutModel",
          "state": {
            "_view_name": "LayoutView",
            "grid_template_rows": null,
            "right": null,
            "justify_content": null,
            "_view_module": "@jupyter-widgets/base",
            "overflow": null,
            "_model_module_version": "1.2.0",
            "_view_count": null,
            "flex_flow": null,
            "width": null,
            "min_width": null,
            "border": null,
            "align_items": null,
            "bottom": null,
            "_model_module": "@jupyter-widgets/base",
            "top": null,
            "grid_column": null,
            "overflow_y": null,
            "overflow_x": null,
            "grid_auto_flow": null,
            "grid_area": null,
            "grid_template_columns": null,
            "flex": null,
            "_model_name": "LayoutModel",
            "justify_items": null,
            "grid_row": null,
            "max_height": null,
            "align_content": null,
            "visibility": null,
            "align_self": null,
            "height": null,
            "min_height": null,
            "padding": null,
            "grid_auto_rows": null,
            "grid_gap": null,
            "max_width": null,
            "order": null,
            "_view_module_version": "1.2.0",
            "grid_template_areas": null,
            "object_position": null,
            "object_fit": null,
            "grid_auto_columns": null,
            "margin": null,
            "display": null,
            "left": null
          }
        },
        "022d1850af8a43ce9033be750ad1a622": {
          "model_module": "@jupyter-widgets/controls",
          "model_name": "FloatProgressModel",
          "state": {
            "_view_name": "ProgressView",
            "style": "IPY_MODEL_821dd19bc2144731aaa9d1547fffd427",
            "_dom_classes": [],
            "description": "100%",
            "_model_name": "FloatProgressModel",
            "bar_style": "success",
            "max": 50,
            "_view_module": "@jupyter-widgets/controls",
            "_model_module_version": "1.5.0",
            "value": 50,
            "_view_count": null,
            "_view_module_version": "1.5.0",
            "orientation": "horizontal",
            "min": 0,
            "description_tooltip": null,
            "_model_module": "@jupyter-widgets/controls",
            "layout": "IPY_MODEL_430660b122504b6c8cc73316be2cfaab"
          }
        },
        "3642c741fcc249878e2bccf32006a72d": {
          "model_module": "@jupyter-widgets/controls",
          "model_name": "HTMLModel",
          "state": {
            "_view_name": "HTMLView",
            "style": "IPY_MODEL_8f31677d7f11402cb0f0801bee4f5cac",
            "_dom_classes": [],
            "description": "",
            "_model_name": "HTMLModel",
            "placeholder": "​",
            "_view_module": "@jupyter-widgets/controls",
            "_model_module_version": "1.5.0",
            "value": " 50/50 [11:50&lt;00:00, 14.21s/epochs]",
            "_view_count": null,
            "_view_module_version": "1.5.0",
            "description_tooltip": null,
            "_model_module": "@jupyter-widgets/controls",
            "layout": "IPY_MODEL_99522bffb8db43288a053536a6d2ba27"
          }
        },
        "821dd19bc2144731aaa9d1547fffd427": {
          "model_module": "@jupyter-widgets/controls",
          "model_name": "ProgressStyleModel",
          "state": {
            "_view_name": "StyleView",
            "_model_name": "ProgressStyleModel",
            "description_width": "initial",
            "_view_module": "@jupyter-widgets/base",
            "_model_module_version": "1.5.0",
            "_view_count": null,
            "_view_module_version": "1.2.0",
            "bar_color": null,
            "_model_module": "@jupyter-widgets/controls"
          }
        },
        "430660b122504b6c8cc73316be2cfaab": {
          "model_module": "@jupyter-widgets/base",
          "model_name": "LayoutModel",
          "state": {
            "_view_name": "LayoutView",
            "grid_template_rows": null,
            "right": null,
            "justify_content": null,
            "_view_module": "@jupyter-widgets/base",
            "overflow": null,
            "_model_module_version": "1.2.0",
            "_view_count": null,
            "flex_flow": null,
            "width": null,
            "min_width": null,
            "border": null,
            "align_items": null,
            "bottom": null,
            "_model_module": "@jupyter-widgets/base",
            "top": null,
            "grid_column": null,
            "overflow_y": null,
            "overflow_x": null,
            "grid_auto_flow": null,
            "grid_area": null,
            "grid_template_columns": null,
            "flex": null,
            "_model_name": "LayoutModel",
            "justify_items": null,
            "grid_row": null,
            "max_height": null,
            "align_content": null,
            "visibility": null,
            "align_self": null,
            "height": null,
            "min_height": null,
            "padding": null,
            "grid_auto_rows": null,
            "grid_gap": null,
            "max_width": null,
            "order": null,
            "_view_module_version": "1.2.0",
            "grid_template_areas": null,
            "object_position": null,
            "object_fit": null,
            "grid_auto_columns": null,
            "margin": null,
            "display": null,
            "left": null
          }
        },
        "8f31677d7f11402cb0f0801bee4f5cac": {
          "model_module": "@jupyter-widgets/controls",
          "model_name": "DescriptionStyleModel",
          "state": {
            "_view_name": "StyleView",
            "_model_name": "DescriptionStyleModel",
            "description_width": "",
            "_view_module": "@jupyter-widgets/base",
            "_model_module_version": "1.5.0",
            "_view_count": null,
            "_view_module_version": "1.2.0",
            "_model_module": "@jupyter-widgets/controls"
          }
        },
        "99522bffb8db43288a053536a6d2ba27": {
          "model_module": "@jupyter-widgets/base",
          "model_name": "LayoutModel",
          "state": {
            "_view_name": "LayoutView",
            "grid_template_rows": null,
            "right": null,
            "justify_content": null,
            "_view_module": "@jupyter-widgets/base",
            "overflow": null,
            "_model_module_version": "1.2.0",
            "_view_count": null,
            "flex_flow": null,
            "width": null,
            "min_width": null,
            "border": null,
            "align_items": null,
            "bottom": null,
            "_model_module": "@jupyter-widgets/base",
            "top": null,
            "grid_column": null,
            "overflow_y": null,
            "overflow_x": null,
            "grid_auto_flow": null,
            "grid_area": null,
            "grid_template_columns": null,
            "flex": null,
            "_model_name": "LayoutModel",
            "justify_items": null,
            "grid_row": null,
            "max_height": null,
            "align_content": null,
            "visibility": null,
            "align_self": null,
            "height": null,
            "min_height": null,
            "padding": null,
            "grid_auto_rows": null,
            "grid_gap": null,
            "max_width": null,
            "order": null,
            "_view_module_version": "1.2.0",
            "grid_template_areas": null,
            "object_position": null,
            "object_fit": null,
            "grid_auto_columns": null,
            "margin": null,
            "display": null,
            "left": null
          }
        }
      }
    }
  },
  "cells": [
    {
      "cell_type": "markdown",
      "metadata": {
        "id": "gJp-ZtlraarW"
      },
      "source": [
        "#Below, we have used a Le-net architecture CNN Network on MNIST Dataset."
      ]
    },
    {
      "cell_type": "markdown",
      "metadata": {
        "id": "QxlMJyJbaopt"
      },
      "source": [
        "Importing the required Libraries"
      ]
    },
    {
      "cell_type": "code",
      "metadata": {
        "id": "uhHr9lrUGbfb"
      },
      "source": [
        "import numpy as np\r\n",
        "import torch\r\n",
        "import matplotlib.pyplot as plt\r\n",
        "import torch.nn as nn\r\n",
        "import torch.nn.functional as F\r\n",
        "import torch.optim as opt\r\n",
        "from tqdm.notebook import tqdm_notebook\r\n",
        "from sklearn.model_selection import train_test_split"
      ],
      "execution_count": 45,
      "outputs": []
    },
    {
      "cell_type": "markdown",
      "metadata": {
        "id": "YzTHBhC0asCv"
      },
      "source": [
        "Importing data."
      ]
    },
    {
      "cell_type": "code",
      "metadata": {
        "id": "iPWyUBaLGevd"
      },
      "source": [
        "import torchvision\r\n",
        "import torchvision.transforms as transforms\r\n",
        "trainset=torchvision.datasets.MNIST(root='./data',train=True,transform=transforms.ToTensor(),download=True)\r\n",
        "testset=torchvision.datasets.MNIST(root='./data',train=False,transform=transforms.ToTensor(),download=True)"
      ],
      "execution_count": 59,
      "outputs": []
    },
    {
      "cell_type": "code",
      "metadata": {
        "id": "QXE6--4gGmBY"
      },
      "source": [
        "classes_tr=trainset.classes\r\n",
        "train=trainset\r\n",
        "trainloader = torch.utils.data.DataLoader(trainset, batch_size=128, shuffle=True)\r\n",
        "classes_test=testset.classes\r\n",
        "test=testset\r\n",
        "testloader = torch.utils.data.DataLoader(testset, batch_size=128, shuffle=True)"
      ],
      "execution_count": 61,
      "outputs": []
    },
    {
      "cell_type": "markdown",
      "metadata": {
        "id": "lGe8TXshazaU"
      },
      "source": [
        "Visualising the dataset, by visualising images."
      ]
    },
    {
      "cell_type": "code",
      "metadata": {
        "colab": {
          "base_uri": "https://localhost:8080/"
        },
        "id": "5vSzyyshG_VH",
        "outputId": "14daf894-17b3-4d76-ac48-75b9f4a4742f"
      },
      "source": [
        "dataiter=iter(trainloader)\r\n",
        "\r\n",
        "images, labels= dataiter.next()\r\n",
        "print(images.shape,labels.shape)"
      ],
      "execution_count": 48,
      "outputs": [
        {
          "output_type": "stream",
          "text": [
            "torch.Size([128, 1, 28, 28]) torch.Size([128])\n"
          ],
          "name": "stdout"
        }
      ]
    },
    {
      "cell_type": "code",
      "metadata": {
        "id": "MeSinEUiHKO-"
      },
      "source": [
        "npimg=images.detach().numpy()\r\n",
        "npimg2=np.transpose(npimg[3],(1,2,0))\r\n",
        "npimg2=npimg2.reshape(28,28)                #When printing a white_black image, we have a 2d array rather a 3d. But, for a RBG, we use 3d array."
      ],
      "execution_count": 49,
      "outputs": []
    },
    {
      "cell_type": "code",
      "metadata": {
        "colab": {
          "base_uri": "https://localhost:8080/",
          "height": 282
        },
        "id": "oYzNRFAXHs3M",
        "outputId": "9f040b61-95aa-4f68-8a5a-7ad931e85a97"
      },
      "source": [
        "plt.imshow(npimg2)"
      ],
      "execution_count": 50,
      "outputs": [
        {
          "output_type": "execute_result",
          "data": {
            "text/plain": [
              "<matplotlib.image.AxesImage at 0x7fea06bfd7b8>"
            ]
          },
          "metadata": {
            "tags": []
          },
          "execution_count": 50
        },
        {
          "output_type": "display_data",
          "data": {
            "image/png": "[encoded data removed]",
            "text/plain": [
              "<Figure size 432x288 with 1 Axes>"
            ]
          },
          "metadata": {
            "tags": [],
            "needs_background": "light"
          }
        }
      ]
    },
    {
      "cell_type": "markdown",
      "metadata": {
        "id": "8QWzCbIQJjpF"
      },
      "source": [
        "#Convolutional Neural Network.\r\n",
        "Below, we have have implemented a Le-net Architecture.\r\n",
        "But, as **MNIST Dataset** is a black-white dataset, I had made some changes accordingly.\r\n"
      ]
    },
    {
      "cell_type": "code",
      "metadata": {
        "id": "pOZr5MsBIdbw"
      },
      "source": [
        "class cov_net(nn.Module):\r\n",
        "  def __init__(self):\r\n",
        "    super(cov_net,self).__init__()\r\n",
        "    self.cnn_net=nn.Sequential(\r\n",
        "        nn.Conv2d(1,6,5),                           #(N,1,28,28)-->(N,6,24,24)      \r\n",
        "        nn.Tanh(),\r\n",
        "        nn.MaxPool2d(2,stride=2),                   #(N,6,24,24)-->(N,6,12,12)              \r\n",
        "        nn.Conv2d(6,16,5),                          #(N,6,12,12)-->(N,16,8,8)\r\n",
        "        nn.Tanh(),\r\n",
        "        nn.MaxPool2d(2,2)                           #(N,16,8,8)-->(N,16,4,4)-->(after flattening)-->(N,256)\r\n",
        "    )\r\n",
        "    self.fcc_net=nn.Sequential(\r\n",
        "        nn.Linear(256,120),\r\n",
        "        nn.Tanh(),\r\n",
        "        nn.Linear(120,84),\r\n",
        "        nn.Tanh(),\r\n",
        "        nn.Linear(84,10),\r\n",
        "        nn.Tanh()\r\n",
        "    )\r\n",
        "\r\n",
        "  def feed_forward(self,x):\r\n",
        "    x = self.cnn_net(x)\r\n",
        "    x=x.view(x.size(0),-1)                         #preserve the first shape output, and colapse the rest into a single column vector.\r\n",
        "    x = self.fcc_net(x)\r\n",
        "\r\n",
        "    return x"
      ],
      "execution_count": 51,
      "outputs": []
    },
    {
      "cell_type": "code",
      "metadata": {
        "id": "vKhHNiDaOJRq"
      },
      "source": [
        "def evaluation_gpu(dataloader):\r\n",
        "  total=0\r\n",
        "  correct=0\r\n",
        "  for data in dataloader:\r\n",
        "    inputs,labels=data\r\n",
        "    inputs,labels=inputs.to(device), labels.to(device)\r\n",
        "    output=net.feed_forward(inputs)\r\n",
        "    a , pred=torch.max(output.data,1)\r\n",
        "    total+=labels.size(0)\r\n",
        "    correct+=(pred==labels).sum().item()\r\n",
        "\r\n",
        "  return (correct/total)*100"
      ],
      "execution_count": 52,
      "outputs": []
    },
    {
      "cell_type": "code",
      "metadata": {
        "colab": {
          "base_uri": "https://localhost:8080/"
        },
        "id": "fx0K1WTEOxmK",
        "outputId": "0f726892-e29e-4db9-e70e-58e03feb77e7"
      },
      "source": [
        "%%time\r\n",
        "def fit_gpu(trainloader,epochs,model,op,loss_fn):\r\n",
        "  loss_tr=[]\r\n",
        "  loss_val=[]\r\n",
        "  acc=[]\r\n",
        "  for i in tqdm_notebook(range(epochs), total=epochs, unit='epochs'):\r\n",
        "    for i,data in enumerate(trainloader,0):\r\n",
        "      inputs, labels=data\r\n",
        "      inputs , labels= inputs.to(device) , labels.to(device)\r\n",
        "\r\n",
        "      inpt_train,inpt_val,lab_train,lab_val = train_test_split(inputs,labels)\r\n",
        "      op.zero_grad()\r\n",
        "      \r\n",
        "      out_tr=net.feed_forward(inpt_train)\r\n",
        "      \r\n",
        "\r\n",
        "      l=loss_fn(out_tr,lab_train)\r\n",
        "      l.backward()\r\n",
        "\r\n",
        "      op.step()\r\n",
        "\r\n",
        "    loss_tr.append(l.item())\r\n",
        "    \r\n",
        "    out_val=net.feed_forward(inpt_val)\r\n",
        "    l_val=loss_fn(out_val,lab_val)\r\n",
        "    loss_val.append(l_val)\r\n",
        "\r\n",
        "    acc.append(evaluation_gpu(trainloader))\r\n",
        "  \r\n",
        "  fig,ax = plt.subplots()\r\n",
        "  color='tab:red'\r\n",
        "  ax.set_ylabel('loss',color=color)\r\n",
        "  ax.set_xlabel('epochs')\r\n",
        "  ax.plot(loss_tr,color=color)\r\n",
        "  ax.plot(loss_val,color='b')\r\n",
        "  plt.show()\r\n",
        "\r\n",
        "  return acc\r\n",
        "    "
      ],
      "execution_count": 53,
      "outputs": [
        {
          "output_type": "stream",
          "text": [
            "CPU times: user 4 µs, sys: 0 ns, total: 4 µs\n",
            "Wall time: 6.2 µs\n"
          ],
          "name": "stdout"
        }
      ]
    },
    {
      "cell_type": "code",
      "metadata": {
        "id": "10gGmV0AOzHU"
      },
      "source": [
        "device=torch.device('cuda:0')\r\n",
        "net=cov_net().to(device)\r\n",
        "loss_fn=nn.CrossEntropyLoss()\r\n",
        "op=opt.Adam(net.parameters(),lr=0.00025)\r\n"
      ],
      "execution_count": 149,
      "outputs": []
    },
    {
      "cell_type": "code",
      "metadata": {
        "colab": {
          "base_uri": "https://localhost:8080/",
          "height": 362,
          "referenced_widgets": [
            "7219de9d04b14e8ea232f4a4a80d362a",
            "155679261ed54ab5a5e9926126b6ae22",
            "022d1850af8a43ce9033be750ad1a622",
            "3642c741fcc249878e2bccf32006a72d",
            "821dd19bc2144731aaa9d1547fffd427",
            "430660b122504b6c8cc73316be2cfaab",
            "8f31677d7f11402cb0f0801bee4f5cac",
            "99522bffb8db43288a053536a6d2ba27"
          ]
        },
        "id": "V1rCiZtAO6Sc",
        "outputId": "be2ed983-ff4e-4a79-bb41-362bc17cf1c1"
      },
      "source": [
        "%%time\r\n",
        "acc=fit_gpu(trainloader,50,net,op,loss_fn)"
      ],
      "execution_count": 150,
      "outputs": [
        {
          "output_type": "display_data",
          "data": {
            "application/vnd.jupyter.widget-view+json": {
              "model_id": "7219de9d04b14e8ea232f4a4a80d362a",
              "version_minor": 0,
              "version_major": 2
            },
            "text/plain": [
              "HBox(children=(FloatProgress(value=0.0, max=50.0), HTML(value='')))"
            ]
          },
          "metadata": {
            "tags": []
          }
        },
        {
          "output_type": "stream",
          "text": [
            "\n"
          ],
          "name": "stdout"
        },
        {
          "output_type": "display_data",
          "data": {
            "image/png": "[encoded data removed]",
            "text/plain": [
              "<Figure size 432x288 with 1 Axes>"
            ]
          },
          "metadata": {
            "tags": [],
            "needs_background": "light"
          }
        },
        {
          "output_type": "stream",
          "text": [
            "CPU times: user 8min 5s, sys: 3.14 s, total: 8min 8s\n",
            "Wall time: 8min 9s\n"
          ],
          "name": "stdout"
        }
      ]
    },
    {
      "cell_type": "markdown",
      "metadata": {
        "id": "g53w35gNgzaS"
      },
      "source": [
        "The red is the **training loss**, while the blue is the **validation loss**."
      ]
    },
    {
      "cell_type": "code",
      "metadata": {
        "colab": {
          "base_uri": "https://localhost:8080/"
        },
        "id": "UQcRZVy5PHJJ",
        "outputId": "9b6a2eb6-ffd8-4392-a06f-305231b35829"
      },
      "source": [
        "print(('Train accuracy is : {:.2f}').format(evaluation_gpu(trainloader)))\r\n",
        "print(('Test accuracy is :{:.2f}').format(evaluation_gpu(testloader)))"
      ],
      "execution_count": 151,
      "outputs": [
        {
          "output_type": "stream",
          "text": [
            "Train accuracy is : 99.78\n",
            "Test accuracy is :99.00\n"
          ],
          "name": "stdout"
        }
      ]
    },
    {
      "cell_type": "markdown",
      "metadata": {
        "id": "OVGaCTn2bzNL"
      },
      "source": [
        "# Visualisation of the output images."
      ]
    },
    {
      "cell_type": "code",
      "metadata": {
        "id": "k0rOtlAWb3k_"
      },
      "source": [
        "net=net.to('cpu')\r\n",
        "out=net.feed_forward(images)"
      ],
      "execution_count": 152,
      "outputs": []
    },
    {
      "cell_type": "code",
      "metadata": {
        "colab": {
          "base_uri": "https://localhost:8080/"
        },
        "id": "m501EmPsefsg",
        "outputId": "d58d1cfa-a654-4006-faaa-7041cb234204"
      },
      "source": [
        "net.cnn_net"
      ],
      "execution_count": 153,
      "outputs": [
        {
          "output_type": "execute_result",
          "data": {
            "text/plain": [
              "Sequential(\n",
              "  (0): Conv2d(1, 6, kernel_size=(5, 5), stride=(1, 1))\n",
              "  (1): Tanh()\n",
              "  (2): MaxPool2d(kernel_size=2, stride=2, padding=0, dilation=1, ceil_mode=False)\n",
              "  (3): Conv2d(6, 16, kernel_size=(5, 5), stride=(1, 1))\n",
              "  (4): Tanh()\n",
              "  (5): MaxPool2d(kernel_size=2, stride=2, padding=0, dilation=1, ceil_mode=False)\n",
              ")"
            ]
          },
          "metadata": {
            "tags": []
          },
          "execution_count": 153
        }
      ]
    },
    {
      "cell_type": "code",
      "metadata": {
        "colab": {
          "base_uri": "https://localhost:8080/"
        },
        "id": "LfBEvAhbb6wW",
        "outputId": "a693d8b3-9660-4fc1-d45a-6c0f1cecefb3"
      },
      "source": [
        "out=net.cnn_net[1]((net.cnn_net[0](images)))\r\n",
        "out.shape"
      ],
      "execution_count": 154,
      "outputs": [
        {
          "output_type": "execute_result",
          "data": {
            "text/plain": [
              "torch.Size([128, 6, 24, 24])"
            ]
          },
          "metadata": {
            "tags": []
          },
          "execution_count": 154
        }
      ]
    },
    {
      "cell_type": "code",
      "metadata": {
        "colab": {
          "base_uri": "https://localhost:8080/",
          "height": 176
        },
        "id": "cRlyfC3wcGyM",
        "outputId": "df81f359-6456-4067-c31e-c47776793372"
      },
      "source": [
        "image_id = 3\r\n",
        "plt.figure(figsize = (2,2))\r\n",
        "plt.imshow(images[image_id,].reshape(28,28))"
      ],
      "execution_count": 155,
      "outputs": [
        {
          "output_type": "execute_result",
          "data": {
            "text/plain": [
              "<matplotlib.image.AxesImage at 0x7fea06dadf60>"
            ]
          },
          "metadata": {
            "tags": []
          },
          "execution_count": 155
        },
        {
          "output_type": "display_data",
          "data": {
            "image/png": "[encoded data removed]",
            "text/plain": [
              "<Figure size 144x144 with 1 Axes>"
            ]
          },
          "metadata": {
            "tags": [],
            "needs_background": "light"
          }
        }
      ]
    },
    {
      "cell_type": "code",
      "metadata": {
        "colab": {
          "base_uri": "https://localhost:8080/",
          "height": 430
        },
        "id": "QJf0qi7yc29Q",
        "outputId": "bdadd80f-93c7-4546-d214-02a144315e06"
      },
      "source": [
        "plt.figure(figsize = (6,6))\r\n",
        "plt.subplot(321)\r\n",
        "for i in range(6):\r\n",
        "    ax1 = plt.subplot(3, 2, i+1,)\r\n",
        "    plt.imshow(out[image_id, i, :, :].detach().numpy(), cmap=\"binary\")                #This is another way of pritning grey-scale images.\r\n",
        "plt.show()"
      ],
      "execution_count": 156,
      "outputs": [
        {
          "output_type": "stream",
          "text": [
            "/usr/local/lib/python3.6/dist-packages/ipykernel_launcher.py:4: MatplotlibDeprecationWarning: Adding an axes using the same arguments as a previous axes currently reuses the earlier instance.  In a future version, a new instance will always be created and returned.  Meanwhile, this warning can be suppressed, and the future behavior ensured, by passing a unique label to each axes instance.\n",
            "  after removing the cwd from sys.path.\n"
          ],
          "name": "stderr"
        },
        {
          "output_type": "display_data",
          "data": {
            "image/png": "[encoded data removed]",
            "text/plain": [
              "<Figure size 432x432 with 6 Axes>"
            ]
          },
          "metadata": {
            "tags": [],
            "needs_background": "light"
          }
        }
      ]
    },
    {
      "cell_type": "markdown",
      "metadata": {
        "id": "OhxpgCEZfq0o"
      },
      "source": [
        "The above outputs are pretty amazing , right? \r\n",
        "\r\n",
        "\r\n",
        "Each i_th plot is the i_th channel output of the first Convolutional layer, after applying the activation function. **(i.e. Tanh())**"
      ]
    },
    {
      "cell_type": "code",
      "metadata": {
        "colab": {
          "base_uri": "https://localhost:8080/"
        },
        "id": "GXd8jvjXdIiu",
        "outputId": "fb3a014f-88c3-44be-98be-e63535abcfbf"
      },
      "source": [
        "out=net.cnn_net[3](net.cnn_net[0](images))\r\n",
        "out.shape"
      ],
      "execution_count": 157,
      "outputs": [
        {
          "output_type": "execute_result",
          "data": {
            "text/plain": [
              "torch.Size([128, 16, 20, 20])"
            ]
          },
          "metadata": {
            "tags": []
          },
          "execution_count": 157
        }
      ]
    },
    {
      "cell_type": "code",
      "metadata": {
        "colab": {
          "base_uri": "https://localhost:8080/",
          "height": 376
        },
        "id": "X_PdMYD1fdn7",
        "outputId": "f9292bda-0221-4a5d-a157-97fb9a30a87f"
      },
      "source": [
        "plt.figure(figsize = (6,6))\r\n",
        "plt.subplot(321)\r\n",
        "for i in range(16):\r\n",
        "    ax1 = plt.subplot(4, 4, i+1,)\r\n",
        "    plt.imshow(out[image_id, i, :, :].detach().numpy(), cmap=\"binary\")                #This is another way of pritning grey-scale images.\r\n",
        "plt.show()"
      ],
      "execution_count": 158,
      "outputs": [
        {
          "output_type": "display_data",
          "data": {
            "image/png": "[encoded data removed]",
            "text/plain": [
              "<Figure size 432x432 with 16 Axes>"
            ]
          },
          "metadata": {
            "tags": [],
            "needs_background": "light"
          }
        }
      ]
    },
    {
      "cell_type": "markdown",
      "metadata": {
        "id": "vBwFhN0VgcNj"
      },
      "source": [
        "Again, These above plots are ouputs of the 2nd convolutional layer.\r\n"
      ]
    }
  ]
}