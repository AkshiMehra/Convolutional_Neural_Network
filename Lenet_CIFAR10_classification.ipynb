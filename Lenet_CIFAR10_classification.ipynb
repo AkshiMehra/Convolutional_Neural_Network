{
  "nbformat": 4,
  "nbformat_minor": 0,
  "metadata": {
    "colab": {
      "name": "Lenet_CIFAR10_classification.ipynb",
      "provenance": [],
      "collapsed_sections": []
    },
    "kernelspec": {
      "name": "python3",
      "display_name": "Python 3"
    },
    "accelerator": "GPU",
    "widgets": {
      "application/vnd.jupyter.widget-state+json": {
        "b8188997c2644d36b9a834a7cc2c3482": {
          "model_module": "@jupyter-widgets/controls",
          "model_name": "HBoxModel",
          "state": {
            "_view_name": "HBoxView",
            "_dom_classes": [],
            "_model_name": "HBoxModel",
            "_view_module": "@jupyter-widgets/controls",
            "_model_module_version": "1.5.0",
            "_view_count": null,
            "_view_module_version": "1.5.0",
            "box_style": "",
            "layout": "IPY_MODEL_1ecb803f76a749888e2b91c0dece99b0",
            "_model_module": "@jupyter-widgets/controls",
            "children": [
              "IPY_MODEL_40995670ea6e4b80ab24141ef9dcd7d7",
              "IPY_MODEL_3806cb72525d40369ee2ec9bc8ff160e"
            ]
          }
        },
        "1ecb803f76a749888e2b91c0dece99b0": {
          "model_module": "@jupyter-widgets/base",
          "model_name": "LayoutModel",
          "state": {
            "_view_name": "LayoutView",
            "grid_template_rows": null,
            "right": null,
            "justify_content": null,
            "_view_module": "@jupyter-widgets/base",
            "overflow": null,
            "_model_module_version": "1.2.0",
            "_view_count": null,
            "flex_flow": null,
            "width": null,
            "min_width": null,
            "border": null,
            "align_items": null,
            "bottom": null,
            "_model_module": "@jupyter-widgets/base",
            "top": null,
            "grid_column": null,
            "overflow_y": null,
            "overflow_x": null,
            "grid_auto_flow": null,
            "grid_area": null,
            "grid_template_columns": null,
            "flex": null,
            "_model_name": "LayoutModel",
            "justify_items": null,
            "grid_row": null,
            "max_height": null,
            "align_content": null,
            "visibility": null,
            "align_self": null,
            "height": null,
            "min_height": null,
            "padding": null,
            "grid_auto_rows": null,
            "grid_gap": null,
            "max_width": null,
            "order": null,
            "_view_module_version": "1.2.0",
            "grid_template_areas": null,
            "object_position": null,
            "object_fit": null,
            "grid_auto_columns": null,
            "margin": null,
            "display": null,
            "left": null
          }
        },
        "40995670ea6e4b80ab24141ef9dcd7d7": {
          "model_module": "@jupyter-widgets/controls",
          "model_name": "FloatProgressModel",
          "state": {
            "_view_name": "ProgressView",
            "style": "IPY_MODEL_317af19e399e4fe199913bda2caf1573",
            "_dom_classes": [],
            "description": "100%",
            "_model_name": "FloatProgressModel",
            "bar_style": "success",
            "max": 150,
            "_view_module": "@jupyter-widgets/controls",
            "_model_module_version": "1.5.0",
            "value": 150,
            "_view_count": null,
            "_view_module_version": "1.5.0",
            "orientation": "horizontal",
            "min": 0,
            "description_tooltip": null,
            "_model_module": "@jupyter-widgets/controls",
            "layout": "IPY_MODEL_7de03ada9da745d38695b12d0d83a0a9"
          }
        },
        "3806cb72525d40369ee2ec9bc8ff160e": {
          "model_module": "@jupyter-widgets/controls",
          "model_name": "HTMLModel",
          "state": {
            "_view_name": "HTMLView",
            "style": "IPY_MODEL_c90b8ac8bb274f9399676b44fbacac52",
            "_dom_classes": [],
            "description": "",
            "_model_name": "HTMLModel",
            "placeholder": "​",
            "_view_module": "@jupyter-widgets/controls",
            "_model_module_version": "1.5.0",
            "value": " 150/150 [35:43&lt;00:00, 14.29s/epochs]",
            "_view_count": null,
            "_view_module_version": "1.5.0",
            "description_tooltip": null,
            "_model_module": "@jupyter-widgets/controls",
            "layout": "IPY_MODEL_f407fbb6eaa44b8c8604bf550ba205ac"
          }
        },
        "317af19e399e4fe199913bda2caf1573": {
          "model_module": "@jupyter-widgets/controls",
          "model_name": "ProgressStyleModel",
          "state": {
            "_view_name": "StyleView",
            "_model_name": "ProgressStyleModel",
            "description_width": "initial",
            "_view_module": "@jupyter-widgets/base",
            "_model_module_version": "1.5.0",
            "_view_count": null,
            "_view_module_version": "1.2.0",
            "bar_color": null,
            "_model_module": "@jupyter-widgets/controls"
          }
        },
        "7de03ada9da745d38695b12d0d83a0a9": {
          "model_module": "@jupyter-widgets/base",
          "model_name": "LayoutModel",
          "state": {
            "_view_name": "LayoutView",
            "grid_template_rows": null,
            "right": null,
            "justify_content": null,
            "_view_module": "@jupyter-widgets/base",
            "overflow": null,
            "_model_module_version": "1.2.0",
            "_view_count": null,
            "flex_flow": null,
            "width": null,
            "min_width": null,
            "border": null,
            "align_items": null,
            "bottom": null,
            "_model_module": "@jupyter-widgets/base",
            "top": null,
            "grid_column": null,
            "overflow_y": null,
            "overflow_x": null,
            "grid_auto_flow": null,
            "grid_area": null,
            "grid_template_columns": null,
            "flex": null,
            "_model_name": "LayoutModel",
            "justify_items": null,
            "grid_row": null,
            "max_height": null,
            "align_content": null,
            "visibility": null,
            "align_self": null,
            "height": null,
            "min_height": null,
            "padding": null,
            "grid_auto_rows": null,
            "grid_gap": null,
            "max_width": null,
            "order": null,
            "_view_module_version": "1.2.0",
            "grid_template_areas": null,
            "object_position": null,
            "object_fit": null,
            "grid_auto_columns": null,
            "margin": null,
            "display": null,
            "left": null
          }
        },
        "c90b8ac8bb274f9399676b44fbacac52": {
          "model_module": "@jupyter-widgets/controls",
          "model_name": "DescriptionStyleModel",
          "state": {
            "_view_name": "StyleView",
            "_model_name": "DescriptionStyleModel",
            "description_width": "",
            "_view_module": "@jupyter-widgets/base",
            "_model_module_version": "1.5.0",
            "_view_count": null,
            "_view_module_version": "1.2.0",
            "_model_module": "@jupyter-widgets/controls"
          }
        },
        "f407fbb6eaa44b8c8604bf550ba205ac": {
          "model_module": "@jupyter-widgets/base",
          "model_name": "LayoutModel",
          "state": {
            "_view_name": "LayoutView",
            "grid_template_rows": null,
            "right": null,
            "justify_content": null,
            "_view_module": "@jupyter-widgets/base",
            "overflow": null,
            "_model_module_version": "1.2.0",
            "_view_count": null,
            "flex_flow": null,
            "width": null,
            "min_width": null,
            "border": null,
            "align_items": null,
            "bottom": null,
            "_model_module": "@jupyter-widgets/base",
            "top": null,
            "grid_column": null,
            "overflow_y": null,
            "overflow_x": null,
            "grid_auto_flow": null,
            "grid_area": null,
            "grid_template_columns": null,
            "flex": null,
            "_model_name": "LayoutModel",
            "justify_items": null,
            "grid_row": null,
            "max_height": null,
            "align_content": null,
            "visibility": null,
            "align_self": null,
            "height": null,
            "min_height": null,
            "padding": null,
            "grid_auto_rows": null,
            "grid_gap": null,
            "max_width": null,
            "order": null,
            "_view_module_version": "1.2.0",
            "grid_template_areas": null,
            "object_position": null,
            "object_fit": null,
            "grid_auto_columns": null,
            "margin": null,
            "display": null,
            "left": null
          }
        }
      }
    }
  },
  "cells": [
    {
      "cell_type": "markdown",
      "metadata": {
        "id": "7-1LqWWYordS"
      },
      "source": [
        "Below, we had worked upon CIFAR-10 dataset using Convolutional-Neural-Network.\r\n",
        "\r\n",
        "Using **GPU**"
      ]
    },
    {
      "cell_type": "code",
      "metadata": {
        "id": "67_aUmoD71E4"
      },
      "source": [
        "import numpy as np\r\n",
        "import torch\r\n",
        "import matplotlib.pyplot as plt\r\n",
        "import torch.nn as nn\r\n",
        "import torch.nn.functional as F\r\n",
        "import torch.optim as opt\r\n",
        "from tqdm.notebook import tqdm_notebook"
      ],
      "execution_count": 23,
      "outputs": []
    },
    {
      "cell_type": "code",
      "metadata": {
        "colab": {
          "base_uri": "https://localhost:8080/"
        },
        "id": "bzeMspXG8BZ4",
        "outputId": "f688fd53-4fd9-4d36-bf52-06091890ab6b"
      },
      "source": [
        "import torchvision\r\n",
        "import torchvision.transforms as transforms\r\n",
        "trainset = torchvision.datasets.CIFAR10('./data',transform=transforms.ToTensor(),train=True,download=True)"
      ],
      "execution_count": 24,
      "outputs": [
        {
          "output_type": "stream",
          "text": [
            "Files already downloaded and verified\n"
          ],
          "name": "stdout"
        }
      ]
    },
    {
      "cell_type": "code",
      "metadata": {
        "colab": {
          "base_uri": "https://localhost:8080/"
        },
        "id": "2Tk0i5EW8Ole",
        "outputId": "0d411867-e945-4d48-ed0e-2bad9bedf63a"
      },
      "source": [
        "trainset = trainset\r\n",
        "classes_train = trainset.classes\r\n",
        "testset = torchvision.datasets.CIFAR10('./data',transform=transforms.ToTensor(),train=False,download=True)\r\n"
      ],
      "execution_count": 25,
      "outputs": [
        {
          "output_type": "stream",
          "text": [
            "Files already downloaded and verified\n"
          ],
          "name": "stdout"
        }
      ]
    },
    {
      "cell_type": "code",
      "metadata": {
        "id": "HUgI4croAkbU"
      },
      "source": [
        "batchsize=128\r\n",
        "trainloader = torch.utils.data.DataLoader(trainset,batch_size=batchsize,shuffle=True)\r\n",
        "testloader=torch.utils.data.DataLoader(testset,batch_size=batchsize,shuffle=False)"
      ],
      "execution_count": 26,
      "outputs": []
    },
    {
      "cell_type": "markdown",
      "metadata": {
        "id": "pYF6bXUgpGn0"
      },
      "source": [
        "# Le-Net architecture."
      ]
    },
    {
      "cell_type": "code",
      "metadata": {
        "id": "9Xzl7L5PCFc6"
      },
      "source": [
        "class Lenet_classification(nn.Module):\r\n",
        "  def __init__(self):\r\n",
        "    super(Lenet_classification,self).__init__()\r\n",
        "    self.cnn_net=nn.Sequential(\r\n",
        "        nn.Conv2d(3,6,5),                           #(N,3,32,32)-->(N,6,28,28)       \r\n",
        "        nn.ReLU(),\r\n",
        "        nn.MaxPool2d(2,stride=2),                   #(N,6,28,28)-->(N,6,14,14)              \r\n",
        "        nn.Conv2d(6,16,5),                          #(N,6,14,14)-->(N,16,10,10)\r\n",
        "        nn.ReLU(),\r\n",
        "        nn.MaxPool2d(2,2)                           #(N,16,10,10)-->(N,16,5,5)-->(after flattening)-->(N,400)\r\n",
        "    )\r\n",
        "    self.fcc_net=nn.Sequential(\r\n",
        "        nn.Linear(400,120),\r\n",
        "        nn.ReLU(),\r\n",
        "        nn.Linear(120,84),\r\n",
        "        nn.ReLU(),\r\n",
        "        nn.Linear(84,10)\r\n",
        "    )\r\n",
        "\r\n",
        "  def feed_forward(self,x):\r\n",
        "    x = self.cnn_net(x)\r\n",
        "    x=x.view(x.size(0),-1)                         #preserve the first shape output, and colapse the rest into a single column vector.\r\n",
        "    x = self.fcc_net(x)\r\n",
        "\r\n",
        "    return x"
      ],
      "execution_count": 28,
      "outputs": []
    },
    {
      "cell_type": "markdown",
      "metadata": {
        "id": "5JeKQ3tXUnBK"
      },
      "source": [
        "#Using GPU"
      ]
    },
    {
      "cell_type": "code",
      "metadata": {
        "colab": {
          "base_uri": "https://localhost:8080/"
        },
        "id": "RxiijMoSFynk",
        "outputId": "dcce81bb-253d-40f9-bb6c-267de8efebb5"
      },
      "source": [
        "device = torch.device(\"cuda:0\" if torch.cuda.is_available() else \"cpu\")\r\n",
        "print(device)"
      ],
      "execution_count": 34,
      "outputs": [
        {
          "output_type": "stream",
          "text": [
            "cuda:0\n"
          ],
          "name": "stdout"
        }
      ]
    },
    {
      "cell_type": "code",
      "metadata": {
        "id": "g7JLtVksUtBm"
      },
      "source": [
        "def evaluation_gpu(dataloader):\r\n",
        "  total=0\r\n",
        "  correct=0\r\n",
        "  for data in dataloader:\r\n",
        "    inputs,labels=data\r\n",
        "    inputs,labels=inputs.to(device), labels.to(device)\r\n",
        "    output=net.feed_forward(inputs)\r\n",
        "    a , pred=torch.max(output.data,1)\r\n",
        "    total+=labels.size(0)\r\n",
        "    correct+=(pred==labels).sum().item()\r\n",
        "\r\n",
        "  return (correct/total)*100"
      ],
      "execution_count": 35,
      "outputs": []
    },
    {
      "cell_type": "code",
      "metadata": {
        "colab": {
          "base_uri": "https://localhost:8080/"
        },
        "id": "Uh5bGNGeVGYD",
        "outputId": "d08caed5-dac8-4890-bf87-40c42de31be6"
      },
      "source": [
        "%%time\r\n",
        "def fit_gpu(trainloader,epochs,model,op,loss_fn):\r\n",
        "  loss=[]\r\n",
        "  acc=[]\r\n",
        "  for i in tqdm_notebook(range(epochs), total=epochs, unit='epochs'):\r\n",
        "    for i,data in enumerate(trainloader,0):\r\n",
        "      inputs, labels=data\r\n",
        "      inputs , labels= inputs.to(device) , labels.to(device)\r\n",
        "      op.zero_grad()\r\n",
        "      \r\n",
        "      output=net.feed_forward(inputs)\r\n",
        "      \r\n",
        "\r\n",
        "      l=loss_fn(output,labels)\r\n",
        "      l.backward()\r\n",
        "\r\n",
        "      op.step()\r\n",
        "\r\n",
        "    loss.append(l.item())\r\n",
        "    acc.append(evaluation_gpu(trainloader))\r\n",
        "  \r\n",
        "  fig,ax = plt.subplots()\r\n",
        "  color='tab:red'\r\n",
        "  ax.set_ylabel('loss',color=color)\r\n",
        "  ax.set_xlabel('epochs')\r\n",
        "  ax.plot(loss,color=color)\r\n",
        "  ax.tick_params(axis='y', labelcolor=color)\r\n",
        "  ax2=ax.twinx()\r\n",
        "  color='tab:blue'\r\n",
        "  ax2.set_ylabel('accuracy')\r\n",
        "  ax2.plot(acc,color=color)\r\n",
        "  ax2.tick_params(axis='y', labelcolor=color)\r\n",
        "  fig.tight_layout()\r\n",
        "  plt.show()\r\n",
        "\r\n",
        "  return loss\r\n",
        "    "
      ],
      "execution_count": 36,
      "outputs": [
        {
          "output_type": "stream",
          "text": [
            "CPU times: user 21 µs, sys: 0 ns, total: 21 µs\n",
            "Wall time: 24.8 µs\n"
          ],
          "name": "stdout"
        }
      ]
    },
    {
      "cell_type": "code",
      "metadata": {
        "id": "2PfhNoPMVMj7"
      },
      "source": [
        "net=Lenet_classification().to(device)\r\n",
        "loss_fn=nn.CrossEntropyLoss()\r\n",
        "op=opt.Adam(net.parameters(),lr=0.002,weight_decay=0.001)\r\n"
      ],
      "execution_count": 54,
      "outputs": []
    },
    {
      "cell_type": "code",
      "metadata": {
        "colab": {
          "base_uri": "https://localhost:8080/",
          "height": 379,
          "referenced_widgets": [
            "b8188997c2644d36b9a834a7cc2c3482",
            "1ecb803f76a749888e2b91c0dece99b0",
            "40995670ea6e4b80ab24141ef9dcd7d7",
            "3806cb72525d40369ee2ec9bc8ff160e",
            "317af19e399e4fe199913bda2caf1573",
            "7de03ada9da745d38695b12d0d83a0a9",
            "c90b8ac8bb274f9399676b44fbacac52",
            "f407fbb6eaa44b8c8604bf550ba205ac"
          ]
        },
        "id": "1lBW5A6QVmPb",
        "outputId": "52992f04-6046-4cc5-9ed6-179668f03359"
      },
      "source": [
        "%%time\r\n",
        "loss=fit_gpu(trainloader,150,net,op,loss_fn)"
      ],
      "execution_count": 58,
      "outputs": [
        {
          "output_type": "display_data",
          "data": {
            "application/vnd.jupyter.widget-view+json": {
              "model_id": "b8188997c2644d36b9a834a7cc2c3482",
              "version_minor": 0,
              "version_major": 2
            },
            "text/plain": [
              "HBox(children=(FloatProgress(value=0.0, max=150.0), HTML(value='')))"
            ]
          },
          "metadata": {
            "tags": []
          }
        },
        {
          "output_type": "stream",
          "text": [
            "\n"
          ],
          "name": "stdout"
        },
        {
          "output_type": "display_data",
          "data": {
            "image/png": "[encoded data removed]",
            "text/plain": [
              "<Figure size 432x288 with 2 Axes>"
            ]
          },
          "metadata": {
            "tags": [],
            "needs_background": "light"
          }
        },
        {
          "output_type": "stream",
          "text": [
            "CPU times: user 27min 9s, sys: 7.47 s, total: 27min 17s\n",
            "Wall time: 27min 19s\n"
          ],
          "name": "stdout"
        }
      ]
    },
    {
      "cell_type": "code",
      "metadata": {
        "colab": {
          "base_uri": "https://localhost:8080/"
        },
        "id": "JnLudHMgW46V",
        "outputId": "033403f7-9158-458e-e0dc-b2829c41a9da"
      },
      "source": [
        "print(evaluation_gpu(trainloader),evaluation_gpu(testloader))"
      ],
      "execution_count": 59,
      "outputs": [
        {
          "output_type": "stream",
          "text": [
            "82.8 82.8\n"
          ],
          "name": "stdout"
        }
      ]
    },
    {
      "cell_type": "markdown",
      "metadata": {
        "id": "yWPo1AZIpO6c"
      },
      "source": [
        "#Visualisation of images."
      ]
    },
    {
      "cell_type": "code",
      "metadata": {
        "id": "XvoyNsjNpRkV"
      },
      "source": [
        "train_loader= torch.utils.data.DataLoader(testset,batch_size=5,shuffle=True)\r\n",
        "dataiter=iter(train_loader)\r\n",
        "images,labels = dataiter.next()\r\n",
        "classes=testset.classes\r\n",
        "net=net.to('cpu')"
      ],
      "execution_count": 120,
      "outputs": []
    },
    {
      "cell_type": "code",
      "metadata": {
        "id": "4TfV17xbpaN3"
      },
      "source": [
        "import numpy as np\r\n",
        "def imshow(images):\r\n",
        "  npimgs=images.numpy()\r\n",
        "  npimg=np.transpose(npimgs,(1,2,0))\r\n",
        "  plt.imshow(npimg)"
      ],
      "execution_count": 121,
      "outputs": []
    },
    {
      "cell_type": "markdown",
      "metadata": {
        "id": "R1doh0bDwA5T"
      },
      "source": [
        "Now, for the calculated parameters, we can now visualize output of each layer\r\n",
        "by the given below methods."
      ]
    },
    {
      "cell_type": "code",
      "metadata": {
        "colab": {
          "base_uri": "https://localhost:8080/"
        },
        "id": "d-OkO0UZ0Q1I",
        "outputId": "6d9998ff-01c0-4590-e58d-e0150d0d9ecd"
      },
      "source": [
        "net.cnn_net"
      ],
      "execution_count": 152,
      "outputs": [
        {
          "output_type": "execute_result",
          "data": {
            "text/plain": [
              "Sequential(\n",
              "  (0): Conv2d(3, 6, kernel_size=(5, 5), stride=(1, 1))\n",
              "  (1): ReLU()\n",
              "  (2): MaxPool2d(kernel_size=2, stride=2, padding=0, dilation=1, ceil_mode=False)\n",
              "  (3): Conv2d(6, 16, kernel_size=(5, 5), stride=(1, 1))\n",
              "  (4): ReLU()\n",
              "  (5): MaxPool2d(kernel_size=2, stride=2, padding=0, dilation=1, ceil_mode=False)\n",
              ")"
            ]
          },
          "metadata": {
            "tags": []
          },
          "execution_count": 152
        }
      ]
    },
    {
      "cell_type": "code",
      "metadata": {
        "colab": {
          "base_uri": "https://localhost:8080/"
        },
        "id": "lPrxDuXk0Um1",
        "outputId": "7578c2d4-eb33-4c91-c4ff-b8b9c32bb067"
      },
      "source": [
        "net.fcc_net"
      ],
      "execution_count": 153,
      "outputs": [
        {
          "output_type": "execute_result",
          "data": {
            "text/plain": [
              "Sequential(\n",
              "  (0): Linear(in_features=400, out_features=120, bias=True)\n",
              "  (1): ReLU()\n",
              "  (2): Linear(in_features=120, out_features=84, bias=True)\n",
              "  (3): ReLU()\n",
              "  (4): Linear(in_features=84, out_features=10, bias=True)\n",
              ")"
            ]
          },
          "metadata": {
            "tags": []
          },
          "execution_count": 153
        }
      ]
    },
    {
      "cell_type": "code",
      "metadata": {
        "colab": {
          "base_uri": "https://localhost:8080/",
          "height": 193
        },
        "id": "6WcgQdtOtUZy",
        "outputId": "43f4ea92-9bcc-4d0c-9a9b-b7c940f41286"
      },
      "source": [
        "out = net.cnn_net[1](images)            #applieng cnn_1(Linear(in_features=400, out_features=120, bias=True)) on images.|\r\n",
        "out.shape\r\n",
        "image_id = 4\r\n",
        "plt.figure(figsize = (2,2))\r\n",
        "imshow(images[image_id,])\r\n",
        "plt.figure(figsize = (6,6))\r\n"
      ],
      "execution_count": 157,
      "outputs": [
        {
          "output_type": "execute_result",
          "data": {
            "text/plain": [
              "<Figure size 432x432 with 0 Axes>"
            ]
          },
          "metadata": {
            "tags": []
          },
          "execution_count": 157
        },
        {
          "output_type": "display_data",
          "data": {
            "image/png": "[encoded data removed]",
            "text/plain": [
              "<Figure size 144x144 with 1 Axes>"
            ]
          },
          "metadata": {
            "tags": [],
            "needs_background": "light"
          }
        },
        {
          "output_type": "display_data",
          "data": {
            "text/plain": [
              "<Figure size 432x432 with 0 Axes>"
            ]
          },
          "metadata": {
            "tags": []
          }
        }
      ]
    },
    {
      "cell_type": "code",
      "metadata": {
        "colab": {
          "base_uri": "https://localhost:8080/",
          "height": 322
        },
        "id": "_Ii76JsvuPZr",
        "outputId": "7dd3841d-0657-4454-ef4b-29580a0dd127"
      },
      "source": [
        "plt.subplot(321)\r\n",
        "for i in range(6):\r\n",
        "    ax1 = plt.subplot(3, 2, i+1)\r\n",
        "    plt.imshow(out[image_id, i, :, :].detach().numpy(), cmap=\"binary\")\r\n",
        "plt.show()"
      ],
      "execution_count": 135,
      "outputs": [
        {
          "output_type": "stream",
          "text": [
            "/usr/local/lib/python3.6/dist-packages/ipykernel_launcher.py:3: MatplotlibDeprecationWarning: Adding an axes using the same arguments as a previous axes currently reuses the earlier instance.  In a future version, a new instance will always be created and returned.  Meanwhile, this warning can be suppressed, and the future behavior ensured, by passing a unique label to each axes instance.\n",
            "  This is separate from the ipykernel package so we can avoid doing imports until\n"
          ],
          "name": "stderr"
        },
        {
          "output_type": "display_data",
          "data": {
            "image/png": "[encoded data removed]",
            "text/plain": [
              "<Figure size 432x288 with 6 Axes>"
            ]
          },
          "metadata": {
            "tags": [],
            "needs_background": "light"
          }
        }
      ]
    }
  ]
}